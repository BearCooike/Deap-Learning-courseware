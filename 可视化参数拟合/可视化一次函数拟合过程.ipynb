{
 "cells": [
  {
   "cell_type": "markdown",
   "metadata": {},
   "source": [
    "# 可视化参数拟合\n",
    "\n",
    "#### 使用matplotlib可视化神经网络拟合二次函数图像的过程"
   ]
  },
  {
   "cell_type": "code",
   "execution_count": 1,
   "metadata": {},
   "outputs": [
    {
     "name": "stderr",
     "output_type": "stream",
     "text": [
      "D:\\Anaconda3\\lib\\site-packages\\tensorflow\\python\\framework\\dtypes.py:526: FutureWarning: Passing (type, 1) or '1type' as a synonym of type is deprecated; in a future version of numpy, it will be understood as (type, (1,)) / '(1,)type'.\n",
      "  _np_qint8 = np.dtype([(\"qint8\", np.int8, 1)])\n",
      "D:\\Anaconda3\\lib\\site-packages\\tensorflow\\python\\framework\\dtypes.py:527: FutureWarning: Passing (type, 1) or '1type' as a synonym of type is deprecated; in a future version of numpy, it will be understood as (type, (1,)) / '(1,)type'.\n",
      "  _np_quint8 = np.dtype([(\"quint8\", np.uint8, 1)])\n",
      "D:\\Anaconda3\\lib\\site-packages\\tensorflow\\python\\framework\\dtypes.py:528: FutureWarning: Passing (type, 1) or '1type' as a synonym of type is deprecated; in a future version of numpy, it will be understood as (type, (1,)) / '(1,)type'.\n",
      "  _np_qint16 = np.dtype([(\"qint16\", np.int16, 1)])\n",
      "D:\\Anaconda3\\lib\\site-packages\\tensorflow\\python\\framework\\dtypes.py:529: FutureWarning: Passing (type, 1) or '1type' as a synonym of type is deprecated; in a future version of numpy, it will be understood as (type, (1,)) / '(1,)type'.\n",
      "  _np_quint16 = np.dtype([(\"quint16\", np.uint16, 1)])\n",
      "D:\\Anaconda3\\lib\\site-packages\\tensorflow\\python\\framework\\dtypes.py:530: FutureWarning: Passing (type, 1) or '1type' as a synonym of type is deprecated; in a future version of numpy, it will be understood as (type, (1,)) / '(1,)type'.\n",
      "  _np_qint32 = np.dtype([(\"qint32\", np.int32, 1)])\n",
      "D:\\Anaconda3\\lib\\site-packages\\tensorflow\\python\\framework\\dtypes.py:535: FutureWarning: Passing (type, 1) or '1type' as a synonym of type is deprecated; in a future version of numpy, it will be understood as (type, (1,)) / '(1,)type'.\n",
      "  np_resource = np.dtype([(\"resource\", np.ubyte, 1)])\n"
     ]
    }
   ],
   "source": [
    "#encoding=utf8\n",
    "%matplotlib qt5\n",
    "import tensorflow as tf\n",
    "import numpy as np\n",
    "import matplotlib.pyplot as plt  "
   ]
  },
  {
   "cell_type": "markdown",
   "metadata": {},
   "source": [
    "### 1. 构建训练用的数据"
   ]
  },
  {
   "cell_type": "code",
   "execution_count": 2,
   "metadata": {
    "collapsed": true
   },
   "outputs": [],
   "source": [
    "# 构建数据\n",
    "xdata = np.linspace(-1,1,200, dtype=np.float32)[:, np.newaxis]\n",
    "noise = np.random.normal(0, 0.05, xdata.shape).astype(np.float32)\n",
    "\n",
    "# 修改此处ydata的公式可以修改训练数据的分布情况\n",
    "ydata = np.square(xdata) - 0.5 + noise"
   ]
  },
  {
   "cell_type": "markdown",
   "metadata": {},
   "source": [
    "### 2. 使用Tensorflow创建网络\n",
    "#### 此处为单层激活函数为relu的NN网络\n",
    "![avatar](img/NN.png)  "
   ]
  },
  {
   "cell_type": "code",
   "execution_count": 3,
   "metadata": {},
   "outputs": [
    {
     "name": "stdout",
     "output_type": "stream",
     "text": [
      "WARNING:tensorflow:From D:\\Anaconda3\\lib\\site-packages\\tensorflow\\python\\framework\\op_def_library.py:263: colocate_with (from tensorflow.python.framework.ops) is deprecated and will be removed in a future version.\n",
      "Instructions for updating:\n",
      "Colocations handled automatically by placer.\n"
     ]
    }
   ],
   "source": [
    "# 构建网络\n",
    "x = tf.placeholder(tf.float32)\n",
    "y_ = tf.placeholder(tf.float32)\n",
    "# 隐藏层\n",
    "w1 = tf.Variable(tf.random_normal([1, 10])) \n",
    "b1 = tf.Variable(tf.zeros([1, 10]) + 0.1) \n",
    "l1 = tf.nn.relu(tf.matmul(x, w1) + b1)\n",
    "# 输出层\n",
    "w2 = tf.Variable(tf.random_normal([10, 1]))\n",
    "b2 = tf.Variable(tf.zeros([1, 1]) + 0.1)\n",
    "y = tf.matmul(l1, w2) + b2  "
   ]
  },
  {
   "cell_type": "markdown",
   "metadata": {},
   "source": [
    "### 3. 定义损失函数与优化器\n",
    "#### 损失函数为均方差：$loss = \\frac{1}{n}\\sum (y_{pre}-y_{true})^2$\n",
    "#### 优化器为：梯度下降优化器"
   ]
  },
  {
   "cell_type": "code",
   "execution_count": 4,
   "metadata": {},
   "outputs": [
    {
     "name": "stdout",
     "output_type": "stream",
     "text": [
      "WARNING:tensorflow:From D:\\Anaconda3\\lib\\site-packages\\tensorflow\\python\\ops\\math_ops.py:3066: to_int32 (from tensorflow.python.ops.math_ops) is deprecated and will be removed in a future version.\n",
      "Instructions for updating:\n",
      "Use tf.cast instead.\n"
     ]
    }
   ],
   "source": [
    "# 定义损失函数和训练方法\n",
    "loss = tf.reduce_mean(tf.reduce_sum(tf.square(y - y_),\n",
    "                     reduction_indices=[1]))\n",
    "train = tf.train.GradientDescentOptimizer(0.2).minimize(loss)"
   ]
  },
  {
   "cell_type": "markdown",
   "metadata": {},
   "source": [
    "### 4.训练模型并可视化过程"
   ]
  },
  {
   "cell_type": "code",
   "execution_count": 6,
   "metadata": {},
   "outputs": [
    {
     "name": "stderr",
     "output_type": "stream",
     "text": [
      "D:\\Anaconda3\\lib\\site-packages\\matplotlib\\cbook\\deprecation.py:107: MatplotlibDeprecationWarning: Adding an axes using the same arguments as a previous axes currently reuses the earlier instance.  In a future version, a new instance will always be created and returned.  Meanwhile, this warning can be suppressed, and the future behavior ensured, by passing a unique label to each axes instance.\n",
      "  warnings.warn(message, mplDeprecation, stacklevel=1)\n"
     ]
    },
    {
     "name": "stdout",
     "output_type": "stream",
     "text": [
      "0.8150145\n",
      "0.008664466\n",
      "0.0067158444\n",
      "0.005445199\n",
      "0.004825111\n",
      "0.0044753766\n",
      "0.0042624255\n",
      "0.004097688\n",
      "0.00395001\n",
      "0.00382329\n",
      "0.0037131973\n",
      "0.0036163316\n",
      "0.0035314457\n",
      "0.0034548973\n",
      "0.0033900577\n",
      "0.0033348817\n",
      "0.0032834196\n",
      "0.0032415492\n",
      "0.0032059879\n",
      "0.0031745618\n",
      "0.0031485504\n"
     ]
    }
   ],
   "source": [
    "# 初始化\n",
    "init = tf.global_variables_initializer()\n",
    "\n",
    "# 绘制构建的数据\n",
    "fig = plt.figure()\n",
    "plt.ylim(-1,1)                      # 限制 y 轴的绘制区域\n",
    "ax = fig.add_subplot(1,1,1)\n",
    "ax.scatter(xdata, ydata)\n",
    "plt.ion()#本次运行请注释，全局运行不要注释\n",
    "plt.show()\n",
    "# 训练\n",
    "with tf.Session() as sess:\n",
    "    sess.run(init)\n",
    "    for i in range(1001):              # 训练1000步\n",
    "        sess.run(train, feed_dict={x:xdata, y_:ydata})\n",
    "        if i%50 == 0:                  # 每50步打印一次loss并更新图像\n",
    "            print(sess.run(loss, feed_dict={x:xdata, y_:ydata}))\n",
    "            try:\n",
    "                ax.lines.remove(lines[0])\n",
    "            except Exception:\n",
    "                pass\n",
    "            lines = ax.plot(xdata, sess.run(y, feed_dict={x:xdata}), 'r-', lw=5)\n",
    "            plt.pause(0.1)"
   ]
  },
  {
   "cell_type": "code",
   "execution_count": null,
   "metadata": {
    "collapsed": true
   },
   "outputs": [],
   "source": []
  }
 ],
 "metadata": {
  "kernelspec": {
   "display_name": "Python 3",
   "language": "python",
   "name": "python3"
  },
  "language_info": {
   "codemirror_mode": {
    "name": "ipython",
    "version": 3
   },
   "file_extension": ".py",
   "mimetype": "text/x-python",
   "name": "python",
   "nbconvert_exporter": "python",
   "pygments_lexer": "ipython3",
   "version": "3.6.3"
  }
 },
 "nbformat": 4,
 "nbformat_minor": 2
}
