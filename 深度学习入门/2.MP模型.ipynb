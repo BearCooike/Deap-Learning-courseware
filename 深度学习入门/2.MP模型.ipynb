{
 "cells": [
  {
   "cell_type": "markdown",
   "metadata": {},
   "source": [
    "# 深度学习的开端——MP模型"
   ]
  },
  {
   "cell_type": "markdown",
   "metadata": {},
   "source": [
    "## 1.MP模型的起源  \n",
    "\n",
    "&emsp;&emsp;所谓MP模型，其实是按照生物神经元的结构和工作原理构造出来的一个抽象和简化了的模型。下图是生物神经元的结构：\n",
    "![avatar](img/cell.png)  \n",
    "我们概括出生物神经网络的假定特点：  \n",
    "1. 每个神经元都是一个多输出单输出的信息处理单元；\n",
    "2. 神经元输入分兴奋性输入和抑制性输入两种类型；\n",
    "3. 神经元具有空间整合特性和阈值特性；\n",
    "4. 神经元输入与输出间有固定的时滞，主要取决于突出延搁"
   ]
  },
  {
   "cell_type": "markdown",
   "metadata": {},
   "source": [
    "## 2.MP模型详解  \n",
    "&emsp;&emsp;按照生物神经元，我们建立M-P模型。为了使得建模更加简单，以便于进行形式化表达，我们忽略时间整合作用、不应期等复杂因素，并把神经元的突触时延和强度当成常数。下图就是一个M-P模型的示意图。  \n",
    "![avatar](img/MP.png)  \n",
    "那么接下来就好类比理解了。我们将这个模型和生物神经元的特性列表来比较：  \n",
    "![avatar](img/生物神经元与MP模型.png)\n",
    "&emsp;&emsp;结合M-P模型示意图来看，对于某一个神经元jj （注意别混淆成变量了，在这里jj 只是起到标识某个神经元的作用），它可能接受同时接受了许多个输入信号，用 x<sub>i</sub> 表示。  \n",
    "&emsp;&emsp;由于生物神经元具有不同的突触性质和突触强度，所以对神经元的影响不同，我们用权值 ω<sub>ij</sub>来表示，其正负模拟了生物神经元中突出的兴奋和抑制，其大小则代表了突出的不同连接强度。  \n",
    "&emsp;&emsp;θ<sub>j</sub>表示为一个阈值（threshold），或称为偏置（bias）。  \n",
    "&emsp;&emsp;由于累加性，我们对全部输入信号进行累加整合，相当于生物神经元中的膜电位（水的变化总量），其值就为：  \n",
    "<center>$net′_j(t)=\\sum _{i=1}^n\\omega_{ij}χ_i(t)-\\theta_j$</center>  \n",
    "&emsp;&emsp;神经元激活与否（外接专用水管流出与否）取决于某一阈值电平（水位高度），即只有当其输入总和超过阈值θ<sub>j</sub> 时，神经元才被激活而发放脉冲，否则神经元不会发生输出信号。整个过程可以用下面这个函数来表示：  \n",
    "<center>$y_j=f(net_j)$</center>  \n",
    "&emsp;&emsp;y<sub>j</sub>表示神经元jj的输出，函数f称为激活函数 ( Activation Function )或转移函数 ( Transfer Function ) ，net'<sub>j</sub>(t)称为净激活(net activation)。\n",
    "&emsp;&emsp;若将阈值看成是神经元jj的一个输入x<sub>0</sub>的权重w<sub>0j</sub>，则上面的式子可以简化为：\n",
    "<center>$net′_j(t)=\\sum _{i=0}^nω_{ij}χ_i(t)$</center> \n",
    "<center>$y_j=f(net_j)$</center> \n",
    "&emsp;&emsp;若用X表示输入向量，用W表示权重向量，即：\n",
    "<center>$X=[\\chi_0,\\chi_1,\\dots,\\chi_n]$</center> \n",
    "<center>$M =\n",
    "    \\left[ {\\begin{array}{cc}\n",
    "    \\omega_{0j}  \\\\    \\omega_{1j}  \\\\  \\vdots \\\\ \\omega_{nj}\\end{array} } \\right]$</center> \n",
    "&emsp;&emsp;则神经元的输出可以表示为向量相乘的形式：\n",
    "<center>$net_j=XW$</center> \n",
    "<center>$y_j=f(net_j)=f(XW)$</center> "
   ]
  },
  {
   "cell_type": "markdown",
   "metadata": {
    "collapsed": true
   },
   "source": [
    "由此我们可以得到总结出M-P模型的6个特点：\n",
    "1. 每个神经元都是一个多输入单输出的信息处理单元；\n",
    "2. 神经元输入分兴奋性输入和抑制性输入两种类型；\n",
    "3. 神经元具有空间整合特性和阈值特性；\n",
    "4. 神经元输入与输出间有固定的时滞，主要取决于突触延搁；\n",
    "5. 忽略时间整合作用和不应期；\n",
    "6. 神经元本身是非时变的，即其突触时延和突触强度均为常数。\n",
    "前面4点和生物神经元保持一致。  \n",
    "其实我们可以将模型转换为更容易理解的样子，结合上方MP模型的示意图，可以知道：  \n",
    "&emsp;&emsp;左边存在多个输入x<sub>1</sub>,x<sub>2</sub>...x<sub>n</sub>  \n",
    "&emsp;&emsp;对于每一个输入有它自己独有的权重W  \n",
    "&emsp;&emsp;那么现在就有x<sub>1</sub>W<sub>1</sub>，x<sub>2</sub>W<sub>2</sub>  \n",
    "&emsp;&emsp;对所有的值求和：\n",
    "<center>$\\sum _{i=0}^nW_ix_i$</center> \n",
    "定义一个偏置项b，与上式相加即可，不难看出，其实每一个神经元的内部函数结构都是一个十分简单的一元线性函数，形式类似于y=ax+b。  \n",
    "但线性的结构作用于非线性的回归或分类任务时，其效率大大降低，作用十分有限，我们需要对神经元内部函数做非线性转化，这里我们引入激活函数的概念。  \n",
    "使用激活函数可以将线性的函数转化为一个非线性函数。在下一章中，将简单介绍激活函数的相关内容。"
   ]
  },
  {
   "cell_type": "markdown",
   "metadata": {},
   "source": [
    "## 3.MP模型的意义  \n",
    "&emsp;&emsp;人类通过模仿蜻蜓和鸟类飞行的原理，制作了飞机；通过模仿蝙蝠探知世界的方法，制作了声呐；通过模仿萤火虫的星星之火，制作了人工冷火。人类科技发展的历史，就是探查世界，模仿自然造物的历史。  \n",
    "&emsp;&emsp;MP模型就是人们将目光从世界转移到自身的中间产物，通过模仿人类大脑神经元工作原理，希望将人脑使用数学公式表示出来，是人类从征服世界到征服自己的开端。  \n",
    "&emsp;&emsp;MP模型的神经元构造被广泛应用于现代神经网络模型中，是整个神经网络模型的奠基石!"
   ]
  },
  {
   "cell_type": "code",
   "execution_count": null,
   "metadata": {
    "collapsed": true
   },
   "outputs": [],
   "source": []
  }
 ],
 "metadata": {
  "kernelspec": {
   "display_name": "Python 3",
   "language": "python",
   "name": "python3"
  },
  "language_info": {
   "codemirror_mode": {
    "name": "ipython",
    "version": 3
   },
   "file_extension": ".py",
   "mimetype": "text/x-python",
   "name": "python",
   "nbconvert_exporter": "python",
   "pygments_lexer": "ipython3",
   "version": "3.6.3"
  }
 },
 "nbformat": 4,
 "nbformat_minor": 2
}
