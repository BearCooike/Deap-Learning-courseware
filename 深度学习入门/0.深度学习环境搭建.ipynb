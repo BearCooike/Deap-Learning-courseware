{
 "cells": [
  {
   "cell_type": "markdown",
   "metadata": {},
   "source": [
    "# 深度学习的准备工作"
   ]
  },
  {
   "cell_type": "markdown",
   "metadata": {},
   "source": [
    "该节课程主要目的是为了帮助需要在自己主机上搭建深度学习环境的同学而准备的，所以主要方法介绍以安装有anaconda3为前提的Windows版本为准，Linux安装步骤与Windows类似，不做过多讲解。有需要的同学可以自行在网上查找相关的攻略。"
   ]
  },
  {
   "cell_type": "markdown",
   "metadata": {},
   "source": [
    "## 1.深度学习框架的安装\n",
    "### 1.1 Tensorflow安装攻略\n",
    "Tensorflow框架是深度学习领域最为基础且应用最广的框架，初学者入门通常是学习该框架，在工业应用领域，该框架也是用的最广的。"
   ]
  },
  {
   "attachments": {},
   "cell_type": "markdown",
   "metadata": {},
   "source": [
    "#### 1.1.1 创建虚拟环境(嫌麻烦可以跳过此步骤)\n",
    "通过该步骤可以在Anaconda Prompt中创建虚拟环境，方便环境的切换和使用，也避免因为误操作使环境崩溃。  \n",
    "step1. 打开Anaconda Prompt  \n",
    "![avatar](img/pt.png)\n",
    "![avatar](img/pt1.png)\n",
    "step2. 创建虚拟环境  \n",
    "语法：conda create -n name python=3.6.8  \n",
    "注：name为自己给虚拟环境取的名字，python=为需要的python的版本号  \n",
    "例如：conda create -n py3 python=3.6.8  \n",
    "![avatar](img/pt2.png)\n",
    "step3. 激活虚拟环境  \n",
    "使用：conda activate py3  \n",
    "可以激活创建的虚拟环境，此后对该环境做的一切操作都不会影响到其他环境和基础环境base\n",
    "![avatar](img/pt3.png)"
   ]
  },
  {
   "cell_type": "markdown",
   "metadata": {},
   "source": [
    "#### 1.1.2 使用conda 安装tensorflow-cpu版本\n",
    "对于GPU型号老旧的主机，推介使用tensorflow-cpu版本，虽然在模型训练和推理的效率上会远远落后于GPU版本，想知道自己的电脑是否能够安装GPU版本，可以看后面的GPU版本安装的部分。  \n",
    "直接在Prompt界面下，输入 conda install -y tensorflow=1.15.0  \n",
    "之后会自动安装tensorflow相关依赖和组件。此处使用1.15.0版本，tensorflow2.0版本不会在此系列课程中被使用到，如果感兴趣可以自行研究。  \n",
    "#### 1.1.3 使用conda 安装tensorflow-gpu版本\n",
    "注：安装tensorflow-gpu版并不需要先安装cpu版，选择其中一种即可。\n",
    "在安装之前，请先确定自己显卡为nvidia公司出品的显卡，AMD或Intel公司的显卡请直接放弃安装gpu版，请先到该网站中查询自己主机显卡的算力，若显卡算力大于3.1，则可以安装。  \n",
    "https://developer.nvidia.com/cuda-gpus  \n",
    "确认之后，需要先安装cuda和cudnn，其中：  \n",
    "cuda下载地址：https://developer.nvidia.com/cuda-downloads?target_os=Windows&target_arch=x86_64&target_version=81  \n",
    "cudnn下载地址：https://developer.nvidia.com/cudnn  \n",
    "自己手动安装，需要注意cudnn与cuda与tensorflow-gpu的版本要对应。  \n",
    "为了方便，我们同样可以使用conda进行快捷安装：\n",
    "输入：conda install -y tensorflow-gpu=1.15.0  \n",
    "会自动安装下载cuda与cudnn。  \n",
    "![avatar](img/pt4.png)  \n",
    "##### 检测GPU版本是否安装成功：\n",
    "在prompt终端页面，输入 python 进入python命令行窗口：\n",
    "依次输入：\n",
    "```py\n",
    "import tensorflow as tf\n",
    "hello=tf.constant(‘hello,world’)\n",
    "sess=tf.Session()\n",
    "print(sess.run(hello))\n",
    "```\n",
    "若出现以下反馈，则为安装成功：  \n",
    "![avatar](img/pt5.png)\n",
    "例如，我的显卡为GTX 1050,则在运行以上代码时，就会被检索出显卡型号，以及显存大小，驱动编号。"
   ]
  },
  {
   "cell_type": "markdown",
   "metadata": {},
   "source": [
    "## 1.2 keras 安装攻略 \n",
    "keras框架是基于tensorflow框架编写的，是其底层实现均为tensorflow代码，所以在安装此框架之前，需要先安装tensorflow。其特点是简单易用，可以快速实现模型的编写和训练，对于新手及其友好，通常被应用在大型网络结构编写过程中，简化编写的代码量。  \n",
    "安装过程类似tensorflow，需要注意的是，cpu版本的tensorflow也只能安装cpu版本的keras，gpu版本的tensorflow需要安装keras-gpu。  \n",
    "conda install -y keras  \n",
    "conda install -y keras-gpu"
   ]
  },
  {
   "cell_type": "markdown",
   "metadata": {},
   "source": [
    "# 2. 深度学习常用第三方工具库\n",
    "## 2.1 OpenCV  \n",
    "OpenCV是一个基于BSD许可（开源）发行的跨平台计算机视觉库，可以运行在Linux、Windows、Android和Mac OS操作系统上。它轻量级而且高效——由一系列 C 函数和少量 C++ 类构成，同时提供了Python、Ruby、MATLAB等语言的接口，实现了图像处理和计算机视觉方面的很多通用算法。  \n",
    "该库安装方法较为简单  \n",
    "使用pip 安装：pip install opencv-python  \n",
    "使用conda安装：conda install opencv  \n",
    "进入python命令行，输入：import cv2  \n",
    "若未报错，则说明安装成功。"
   ]
  },
  {
   "cell_type": "markdown",
   "metadata": {},
   "source": [
    "## 2.2 matplotlib\n",
    "Matplotlib 是 Python 的绘图库。 它可与 NumPy 一起使用，提供了一种有效的 MatLab 开源替代方案。 它也可以和图形工具包一起使用，如 PyQt 和 wxPython。  \n",
    "使用pip安装：pip install matplotlib  \n",
    "使用conda安装：conda install matplotlib"
   ]
  },
  {
   "cell_type": "markdown",
   "metadata": {},
   "source": [
    "## 2.3 scikit-learn\n",
    "scikit-learn简称sklearn，支持包括分类，回归，降维和聚类四大机器学习算法。还包括了特征提取，数据处理和模型评估者三大模块。是Python最重要的机器学习库之一。  \n",
    "* 常用的回归：线性、决策树、SVM、KNN ；集成回归：随机森林、Adaboost、GradientBoosting、Bagging、ExtraTrees\n",
    "* 常用的分类：线性、决策树、SVM、KNN，朴素贝叶斯；集成分类：随机森林、Adaboost、GradientBoosting、Bagging、ExtraTrees\n",
    "* 常用聚类：k均值（K-means）、层次聚类（Hierarchical clustering）、DBSCAN\n",
    "* 常用降维：LinearDiscriminantAnalysis、PCA  \n",
    "需要注意的是，该库依赖于numpy与scipy，如果使用pip安装，则需要在安装前安装依赖库。  \n",
    "使用pip安装： pip install scikit-learn  \n",
    "使用conda安装：conda install scikit-learn"
   ]
  },
  {
   "cell_type": "markdown",
   "metadata": {},
   "source": [
    "此处的环境为最基础的环境，根据任务和需要的不同，还需要添加各种第三方库这里就不做说明了。"
   ]
  }
 ],
 "metadata": {
  "kernelspec": {
   "display_name": "Python 3",
   "language": "python",
   "name": "python3"
  },
  "language_info": {
   "codemirror_mode": {
    "name": "ipython",
    "version": 3
   },
   "file_extension": ".py",
   "mimetype": "text/x-python",
   "name": "python",
   "nbconvert_exporter": "python",
   "pygments_lexer": "ipython3",
   "version": "3.6.3"
  }
 },
 "nbformat": 4,
 "nbformat_minor": 2
}
